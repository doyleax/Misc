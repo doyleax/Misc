{
 "cells": [
  {
   "cell_type": "code",
   "execution_count": 1,
   "metadata": {
    "collapsed": true
   },
   "outputs": [],
   "source": [
    "import pandas as pd\n",
    "from matplotlib import pyplot as plt\n",
    "%matplotlib inline"
   ]
  },
  {
   "cell_type": "code",
   "execution_count": null,
   "metadata": {
    "collapsed": true
   },
   "outputs": [],
   "source": [
    "passing = pd.read_csv('data\\.cdv')\n",
    "rushing = rushing_stats(soup,str(year),teamname)\n",
    "receiving = receiving_stats(soup,str(year),teamname)\n",
    "scoring = scoring_stats(soup,str(year),teamname)\n",
    "defense = defense_stats(soup,str(year),teamname)\n",
    "fumbles = fumbles_stats(soup,str(year),teamname)\n",
    "ko_returns = kickoff_returns_stats(soup,str(year),teamname)\n",
    "punt_returns = punt_returns_stats(soup,str(year),teamname)\n",
    "punting = punting_stats(soup,str(year),teamname)\n",
    "kicking = kicking_stats(soup,str(year),teamname)\n",
    "kickoffs = kickoffs_stats(soup,str(year),teamname)\n",
    "results =\n",
    "roster = "
   ]
  }
 ],
 "metadata": {
  "kernelspec": {
   "display_name": "Python 3",
   "language": "python",
   "name": "python3"
  },
  "language_info": {
   "codemirror_mode": {
    "name": "ipython",
    "version": 3
   },
   "file_extension": ".py",
   "mimetype": "text/x-python",
   "name": "python",
   "nbconvert_exporter": "python",
   "pygments_lexer": "ipython3",
   "version": "3.6.1"
  }
 },
 "nbformat": 4,
 "nbformat_minor": 2
}
